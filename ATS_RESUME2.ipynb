{
  "nbformat": 4,
  "nbformat_minor": 0,
  "metadata": {
    "colab": {
      "name": "ATS_RESUME.ipynb",
      "provenance": [],
      "authorship_tag": "ABX9TyNDEj9Q0cM+weHeEjnYMhZd"
    },
    "kernelspec": {
      "name": "python3",
      "display_name": "Python 3"
    },
    "language_info": {
      "name": "python"
    }
  },
  "cells": [
    {
      "cell_type": "code",
      "metadata": {
        "id": "lBBqO5TZrWTb"
      },
      "source": [
        "# Description: creating a program to see how similar my resume is to a job description"
      ],
      "execution_count": null,
      "outputs": []
    },
    {
      "cell_type": "code",
      "metadata": {
        "id": "E_JHiQNireZA"
      },
      "source": [
        "# Install the docx2txt package\n",
        "!pip install docx2txt"
      ],
      "execution_count": null,
      "outputs": []
    },
    {
      "cell_type": "code",
      "metadata": {
        "id": "f0te6IOyrrnp"
      },
      "source": [
        "# Import the library\n",
        "import docx2txt"
      ],
      "execution_count": 4,
      "outputs": []
    },
    {
      "cell_type": "code",
      "metadata": {
        "id": "VeizoKD8rwxY"
      },
      "source": [
        "# Load the data \n",
        "from google.colab import files\n",
        "uploaded = files.upload()"
      ],
      "execution_count": null,
      "outputs": []
    },
    {
      "cell_type": "code",
      "metadata": {
        "id": "zj0Gesjtui4-"
      },
      "source": [
        "# Store the resume in a variable\n",
        "resume = docx2txt.process(\"sample-resumes.docx\")\n",
        "\n",
        "# Print the resume\n",
        "print(resume)\n"
      ],
      "execution_count": null,
      "outputs": []
    },
    {
      "cell_type": "code",
      "metadata": {
        "id": "hUWbXcc_u-DJ"
      },
      "source": [
        "# Store the job description into a variable\n",
        "job_description = docx2txt.process(\"Romeo_Power.docx\")\n",
        "\n",
        "# Print the job descriptions\n",
        "print(job_description)"
      ],
      "execution_count": null,
      "outputs": []
    },
    {
      "cell_type": "code",
      "metadata": {
        "id": "7m50xkquvbYI"
      },
      "source": [
        "# A list of text\n",
        "text = [resume, job_description]"
      ],
      "execution_count": 9,
      "outputs": []
    },
    {
      "cell_type": "code",
      "metadata": {
        "id": "-h6M2McBvkZd"
      },
      "source": [
        "from sklearn.feature_extraction.text import CountVectorizer\n",
        "cv = CountVectorizer()\n",
        "count_matrix = cv.fit_transform(text)"
      ],
      "execution_count": 10,
      "outputs": []
    },
    {
      "cell_type": "code",
      "metadata": {
        "id": "VCU2MwlHv2oT"
      },
      "source": [
        "from sklearn.metrics.pairwise import cosine_similarity\n",
        "\n",
        "# Print the similarity scores\n",
        "print(\"\\nSimilarity Scores:\")\n",
        "print(cosine_similarity(count_matrix))"
      ],
      "execution_count": null,
      "outputs": []
    },
    {
      "cell_type": "code",
      "metadata": {
        "id": "wG5xxD6KwNdx"
      },
      "source": [
        "# Get the match percentage\n",
        "matchPercentage = cosine_similarity(count_matrix)[0][1] * 100\n",
        "matchPercentage = round(matchPercentage, 2) # Round to  two decimal places\n",
        "print(\"Your resume matches about \"+ str(matchPercentage)+ \"% of the job description.\")"
      ],
      "execution_count": null,
      "outputs": []
    }
  ]
}